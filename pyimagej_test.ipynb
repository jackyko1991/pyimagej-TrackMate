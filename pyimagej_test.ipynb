{
 "cells": [
  {
   "attachments": {},
   "cell_type": "markdown",
   "metadata": {},
   "source": [
    "# Notebook for testing pyimagej with TrackMate Scripts"
   ]
  },
  {
   "attachments": {},
   "cell_type": "markdown",
   "metadata": {},
   "source": [
    "This is a pyimagej TrackMate integration test that follows instruction [here](https://github.com/imagej/pyimagej/issues/246#issuecomment-1410871419)."
   ]
  },
  {
   "attachments": {},
   "cell_type": "markdown",
   "metadata": {},
   "source": [
    "Import Headers"
   ]
  },
  {
   "cell_type": "code",
   "execution_count": 1,
   "metadata": {},
   "outputs": [],
   "source": [
    "import sys\n",
    "import os\n",
    "import imagej\n",
    "import imagej.doctor\n",
    "import scyjava as sj"
   ]
  },
  {
   "attachments": {},
   "cell_type": "markdown",
   "metadata": {},
   "source": [
    "## Mark the Local Working Directory\n",
    "The local working path need to be stored as pyimagej will change the CWD after initialization"
   ]
  },
  {
   "cell_type": "code",
   "execution_count": 2,
   "metadata": {},
   "outputs": [],
   "source": [
    "CWD = os.getcwd() "
   ]
  },
  {
   "attachments": {},
   "cell_type": "markdown",
   "metadata": {},
   "source": [
    "## JAVA_HOME setting\n",
    "Export `JAVA_HOME` path for the virtual environment if `JAVA_HOME` is not set and we are in a conda environment"
   ]
  },
  {
   "cell_type": "code",
   "execution_count": 3,
   "metadata": {},
   "outputs": [],
   "source": [
    "if (not os.environ.get('JAVA_HOME')) and os.environ.get('CONDA_DEFAULT_ENV'):\n",
    "    # infer the conda environment via sys.executable path\n",
    "    os.environ['JAVA_HOME'] = os.sep.join(sys.executable.split(os.sep)[:-1] + ['Library'])"
   ]
  },
  {
   "attachments": {},
   "cell_type": "markdown",
   "metadata": {},
   "source": [
    "## pyimagej checkup"
   ]
  },
  {
   "cell_type": "code",
   "execution_count": 4,
   "metadata": {},
   "outputs": [
    {
     "name": "stdout",
     "output_type": "stream",
     "text": [
      "\n",
      "Checking Python:\n",
      "--> Python executable = c:\\Users\\kko\\mambaforge\\envs\\pyimagej\\python.exe\n",
      "\n",
      "Checking environment:\n",
      "--> CONDA_PREFIX = C:\\Users\\kko\\mambaforge\\envs\\pyimagej\n",
      "--> Python executable matches Conda environment.\n",
      "\n",
      "Checking Python dependencies:\n",
      "--> jgo: c:\\Users\\kko\\mambaforge\\envs\\pyimagej\\lib\\site-packages\\jgo\\__init__.py\n",
      "--> scyjava: c:\\Users\\kko\\mambaforge\\envs\\pyimagej\\lib\\site-packages\\scyjava\\__init__.py\n",
      "--> imglyb: c:\\Users\\kko\\mambaforge\\envs\\pyimagej\\lib\\site-packages\\imglyb\\__init__.py\n",
      "--> pyimagej: c:\\Users\\kko\\mambaforge\\envs\\pyimagej\\lib\\site-packages\\imagej\\__init__.py\n",
      "\n",
      "Checking Maven:\n",
      "--> Maven executable = C:\\Users\\kko\\mambaforge\\envs\\pyimagej\\Library\\bin\\mvn.CMD\n",
      "$ mvn -v\n",
      "Apache Maven 3.8.7 (b89d5959fcde851dcb1c8946a785a163f14e1e29)\n",
      "Maven home: C:\\Users\\kko\\mambaforge\\envs\\pyimagej\\Library\n",
      "Java version: 1.8.0_332, vendor: Azul Systems, Inc., runtime: C:\\Users\\kko\\mambaforge\\envs\\pyimagej\\Library\\jre\n",
      "Default locale: en_GB, platform encoding: Cp1252\n",
      "OS name: \"windows 10\", version: \"10.0\", arch: \"amd64\", family: \"windows\"\n",
      "\n",
      "Checking Java:\n",
      "--> JAVA_HOME = C:\\Users\\kko\\mambaforge\\envs\\pyimagej\\Library\n",
      "--> Java executable = C:\\Users\\kko\\mambaforge\\envs\\pyimagej\\Library\\bin\\java.EXE\n",
      "$ java -version\n",
      "openjdk version \"1.8.0_332\"\n",
      "OpenJDK Runtime Environment (Zulu 8.62.0.19-CA-win64) (build 1.8.0_332-b09)\n",
      "OpenJDK 64-Bit Server VM (Zulu 8.62.0.19-CA-win64) (build 25.332-b09, mixed mode)\n",
      "\n",
      "Great job! All looks good.\n"
     ]
    }
   ],
   "source": [
    "imagej.doctor.checkup()"
   ]
  },
  {
   "attachments": {},
   "cell_type": "markdown",
   "metadata": {},
   "source": [
    "## Initialize pyimagej with custom Fiji app"
   ]
  },
  {
   "cell_type": "code",
   "execution_count": 5,
   "metadata": {},
   "outputs": [
    {
     "name": "stdout",
     "output_type": "stream",
     "text": [
      "Initializing Fiji on JVM...\n",
      "ImageJ2 2.9.0/1.53t; Java 1.8.0_332 [amd64]; 160MB of 7195MB\n"
     ]
    }
   ],
   "source": [
    "FIJI_DIR = \"C:/Users/kko/Software/Fiji.app\"\n",
    "\n",
    "print(\"Initializing Fiji on JVM...\")\n",
    "ij = imagej.init(FIJI_DIR,mode='headless') # choose headless mode if you are running on cloud\n",
    "# ij = imagej.init(FIJI_DIR,mode='interactive') # to show image in Fiji you need to use interactive mode, \n",
    "print(ij.getApp().getInfo(True))"
   ]
  },
  {
   "attachments": {},
   "cell_type": "markdown",
   "metadata": {},
   "source": [
    "## Run external scripts\n",
    "pyimagej allows loading of scripts without explicitly pasting inline. We have to call the script file path using the Java-side method [`ij.script().run(File, boolean, Object[])`](https://github.com/scijava/scijava-common/blob/scijava-common-2.90.1/src/main/java/org/scijava/script/ScriptService.java#L130-L148). \n",
    "\n",
    "The `ij.py.run_script` Python-side function is just a wrapper around some `ij.script().run(...)` methods. You can convert your Python arguments to an `Object[]` using `ij.py.jargs`. If you want to block until script execution is complete, call `get()` on the Future returned by `ij.script().run`."
   ]
  },
  {
   "attachments": {},
   "cell_type": "markdown",
   "metadata": {},
   "source": [
    "#### Python side"
   ]
  },
  {
   "cell_type": "code",
   "execution_count": 6,
   "metadata": {},
   "outputs": [],
   "source": [
    "# define python side arguments\n",
    "args = {\n",
    "    'name': 'JK',\n",
    "    'age': 99,\n",
    "    'city': 'London'\n",
    "}\n",
    "\n",
    "# load the script file\n",
    "with open(os.path.join(CWD,'test.ijm'),\"r\") as f:\n",
    "    script_ijm = f.read()"
   ]
  },
  {
   "cell_type": "code",
   "execution_count": 7,
   "metadata": {},
   "outputs": [
    {
     "name": "stdout",
     "output_type": "stream",
     "text": [
      "Hello JK.\n"
     ]
    },
    {
     "name": "stderr",
     "output_type": "stream",
     "text": [
      "[java.lang.Enum.toString] [INFO] script:script.ijm = [[greeting1, greeting2], [Hello JK., You are 99 years old, and live in London.]]\n"
     ]
    }
   ],
   "source": [
    "# Run with ij.py.run_script() function\n",
    "result = ij.py.run_script('ijm', script_ijm, args)\n",
    "print(result.getOutput(\"greeting1\"))"
   ]
  },
  {
   "attachments": {},
   "cell_type": "markdown",
   "metadata": {},
   "source": [
    "#### Java side"
   ]
  },
  {
   "cell_type": "code",
   "execution_count": 8,
   "metadata": {},
   "outputs": [],
   "source": [
    "File = sj.jimport('java.io.File')\n",
    "jfile = File(os.path.join(CWD,'test.ijm'))"
   ]
  },
  {
   "cell_type": "code",
   "execution_count": 9,
   "metadata": {},
   "outputs": [
    {
     "name": "stdout",
     "output_type": "stream",
     "text": [
      "None\n"
     ]
    },
    {
     "name": "stderr",
     "output_type": "stream",
     "text": [
      "[java.lang.Enum.toString] [INFO] script:c:\\Users\\kko\\Projects\\Cell Tracking\\pyimagej-trackmate\\test.ijm = [[greeting1, greeting2], [Hello JK., You are 99 years old, and live in London.]]\n"
     ]
    }
   ],
   "source": [
    "# convert python side stuffs to java side\n",
    "jargs = ij.py.jargs(args)\n",
    "result_future = ij.script().run(jfile,True,jargs)\n",
    "\n",
    "# get the result from java future, blocking will occur here\n",
    "result = ij.py.from_java(result_future.get().getOutput(\"greeting\"))\n",
    "print(result)"
   ]
  },
  {
   "attachments": {},
   "cell_type": "markdown",
   "metadata": {},
   "source": [
    "### Jython Script"
   ]
  },
  {
   "attachments": {},
   "cell_type": "markdown",
   "metadata": {},
   "source": [
    "In thise section, we are attempting to load the image using python side image loader to mimic workflow in python image analysis, then parse the image to [`test.py`](./test.py) script.\n",
    "Jython arguments can be parsed through two ways:\n",
    "\n",
    "1. `sys.argv`\n",
    "2. Jython specific way with `#@ String` etc\n",
    "\n",
    "We are following the second approach which sticks more to the the pyimagej interface."
   ]
  },
  {
   "attachments": {},
   "cell_type": "markdown",
   "metadata": {},
   "source": [
    "#### Image Loading"
   ]
  },
  {
   "cell_type": "code",
   "execution_count": 10,
   "metadata": {},
   "outputs": [],
   "source": [
    "from skimage import io\n",
    "\n",
    "im = io.imread('https://fiji.sc/samples/FakeTracks.tif')"
   ]
  },
  {
   "cell_type": "code",
   "execution_count": 11,
   "metadata": {},
   "outputs": [
    {
     "data": {
      "text/plain": [
       "(50, 128, 128)"
      ]
     },
     "execution_count": 11,
     "metadata": {},
     "output_type": "execute_result"
    }
   ],
   "source": [
    "im.shape"
   ]
  },
  {
   "cell_type": "code",
   "execution_count": 18,
   "metadata": {},
   "outputs": [
    {
     "name": "stdout",
     "output_type": "stream",
     "text": [
      "<java class 'net.imglib2.img.ImgView'> <java class 'ij.ImagePlus'>\n"
     ]
    }
   ],
   "source": [
    "# convert the python size image to java side\n",
    "imj = ij.py.to_java(im)\n",
    "imp = ij.py.to_imageplus(im)\n",
    "\n",
    "print(type(imj),type(imp))"
   ]
  },
  {
   "attachments": {},
   "cell_type": "markdown",
   "metadata": {},
   "source": [
    "Here you can see `imj` is a ImageJ2 class object `net.imglib2.img.ImgView`, while imp is the ImageJ1 class object `ij.ImagePlus`"
   ]
  },
  {
   "attachments": {},
   "cell_type": "markdown",
   "metadata": {},
   "source": [
    "#### Python side"
   ]
  },
  {
   "attachments": {},
   "cell_type": "markdown",
   "metadata": {},
   "source": [
    "We first run with the native ImageJ1 class parsing."
   ]
  },
  {
   "cell_type": "code",
   "execution_count": 13,
   "metadata": {},
   "outputs": [
    {
     "name": "stderr",
     "output_type": "stream",
     "text": [
      "[java.lang.Enum.toString] [WARNING] Ignoring invalid parameter: output Type outputName will declare the variable of the specified name as an output parameter with the given type. \n",
      "[java.lang.Enum.toString] [WARNING] Ignoring invalid parameter: output Type outputName will declare the variable of the specified name as an output parameter with the given type. \n"
     ]
    },
    {
     "name": "stdout",
     "output_type": "stream",
     "text": [
      "0\n",
      "0.10000000149011612\n",
      "[128, 128, 50, 1, 1]\n"
     ]
    },
    {
     "name": "stderr",
     "output_type": "stream",
     "text": [
      "[java.lang.Enum.toString] complete Fiji Python script\n",
      "[java.lang.Enum.toString] [INFO] script:script.py = [[foo, bar], [0, 0.1]]\n",
      "[java.lang.Enum.toString] [WARNING] Ignoring unsupported output: shape [[I]\n",
      "[java.lang.Enum.toString] [WARNING] Ignoring unsupported output: shape [[I]\n"
     ]
    }
   ],
   "source": [
    "# define python side arguments\n",
    "args = {\n",
    "    'imp': imp # java side ImagePlus object\n",
    "}\n",
    "\n",
    "# load the script file\n",
    "with open(os.path.join(CWD,'test.py'),\"r\") as f:\n",
    "    script_py = f.read()\n",
    "\n",
    "# Run with ij.py.run_script() function\n",
    "result = ij.py.run_script('py', script_py, args)\n",
    "print(result.getOutput(\"foo\"))\n",
    "print(result.getOutput(\"bar\"))\n",
    "print(result.getOutput(\"shape\"))"
   ]
  },
  {
   "attachments": {},
   "cell_type": "markdown",
   "metadata": {},
   "source": [
    "Everything is good except for the warning that output scripting parameter `shape` is not defining the type. \n",
    "\n",
    "Let's test the backward compatibility with ImageJ2 file parsing to Jython side `ImagePlus` parameter input"
   ]
  },
  {
   "cell_type": "code",
   "execution_count": 19,
   "metadata": {},
   "outputs": [
    {
     "name": "stderr",
     "output_type": "stream",
     "text": [
      "[java.lang.Enum.toString] [WARNING] Ignoring invalid parameter: output Type outputName will declare the variable of the specified name as an output parameter with the given type. \n",
      "[java.lang.Enum.toString] [WARNING] Ignoring invalid parameter: output Type outputName will declare the variable of the specified name as an output parameter with the given type. \n",
      "[java.lang.Enum.toString] [ERROR] For input imp: incompatible object net.imglib2.img.ImgView for type ij.ImagePlus\n"
     ]
    },
    {
     "name": "stdout",
     "output_type": "stream",
     "text": [
      "0\n",
      "0.10000000149011612\n",
      "[128, 128, 50, 1, 1]\n"
     ]
    },
    {
     "name": "stderr",
     "output_type": "stream",
     "text": [
      "[java.lang.Enum.toString] complete Fiji Python script\n",
      "[java.lang.Enum.toString] [INFO] script:script.py = [[foo, bar], [0, 0.1]]\n",
      "[java.lang.Enum.toString] [WARNING] Ignoring unsupported output: shape [[I]\n",
      "[java.lang.Enum.toString] [WARNING] Ignoring unsupported output: shape [[I]\n"
     ]
    }
   ],
   "source": [
    "# define python side arguments\n",
    "args = {\n",
    "    'imp': imj # java side net.imglib2.img.ImgView object with jython input parameter type ImagePlus\n",
    "}\n",
    "\n",
    "# load the script file\n",
    "with open(os.path.join(CWD,'test.py'),\"r\") as f:\n",
    "    script_py = f.read()\n",
    "\n",
    "# Run with ij.py.run_script() function\n",
    "result = ij.py.run_script('py', script_py, args)\n",
    "print(result.getOutput(\"foo\"))\n",
    "print(result.getOutput(\"bar\"))\n",
    "print(result.getOutput(\"shape\"))"
   ]
  },
  {
   "attachments": {},
   "cell_type": "markdown",
   "metadata": {},
   "source": [
    "Backward compatiblity is proven."
   ]
  },
  {
   "attachments": {},
   "cell_type": "markdown",
   "metadata": {},
   "source": [
    "### Java side"
   ]
  },
  {
   "cell_type": "code",
   "execution_count": 20,
   "metadata": {},
   "outputs": [
    {
     "name": "stderr",
     "output_type": "stream",
     "text": [
      "[java.lang.Enum.toString] [WARNING] Ignoring invalid parameter: output Type outputName will declare the variable of the specified name as an output parameter with the given type. \n",
      "[java.lang.Enum.toString] [WARNING] Ignoring invalid parameter: output Type outputName will declare the variable of the specified name as an output parameter with the given type. \n"
     ]
    },
    {
     "name": "stdout",
     "output_type": "stream",
     "text": [
      "0\n",
      "0.10000000149011612\n",
      "[128 128  50   1   1]\n"
     ]
    },
    {
     "name": "stderr",
     "output_type": "stream",
     "text": [
      "[java.lang.Enum.toString] complete Fiji Python script\n",
      "[java.lang.Enum.toString] [INFO] script:c:\\Users\\kko\\Projects\\Cell Tracking\\pyimagej-trackmate\\test.py = [[foo, bar], [0, 0.1]]\n",
      "[java.lang.Enum.toString] [WARNING] Ignoring unsupported output: shape [[I]\n",
      "[java.lang.Enum.toString] [WARNING] Ignoring unsupported output: shape [[I]\n"
     ]
    }
   ],
   "source": [
    "File = sj.jimport('java.io.File')\n",
    "jfile = File(os.path.join(CWD,'test.py'))\n",
    "\n",
    "# convert python side stuffs to java side\n",
    "# define python side arguments\n",
    "args = {\n",
    "    'imp': imp # java side ImagePlus object\n",
    "}\n",
    "jargs = ij.py.jargs(args)\n",
    "result_future = ij.script().run(jfile,True,jargs)\n",
    "\n",
    "# get the result from java future, blocking will occur here\n",
    "result = result_future.get()\n",
    "print(ij.py.from_java(result.getOutput(\"foo\")))\n",
    "print(ij.py.from_java(result.getOutput(\"bar\")))\n",
    "print(ij.py.from_java(result.getOutput(\"shape\")))"
   ]
  },
  {
   "cell_type": "code",
   "execution_count": 21,
   "metadata": {},
   "outputs": [
    {
     "name": "stderr",
     "output_type": "stream",
     "text": [
      "[java.lang.Enum.toString] [WARNING] Ignoring invalid parameter: output Type outputName will declare the variable of the specified name as an output parameter with the given type. \n",
      "[java.lang.Enum.toString] [WARNING] Ignoring invalid parameter: output Type outputName will declare the variable of the specified name as an output parameter with the given type. \n",
      "[java.lang.Enum.toString] [ERROR] For input imp: incompatible object net.imglib2.img.ImgView for type ij.ImagePlus\n"
     ]
    },
    {
     "name": "stdout",
     "output_type": "stream",
     "text": [
      "0\n",
      "0.10000000149011612\n",
      "[128 128  50   1   1]\n"
     ]
    },
    {
     "name": "stderr",
     "output_type": "stream",
     "text": [
      "[java.lang.Enum.toString] complete Fiji Python script\n",
      "[java.lang.Enum.toString] [INFO] script:c:\\Users\\kko\\Projects\\Cell Tracking\\pyimagej-trackmate\\test.py = [[foo, bar], [0, 0.1]]\n",
      "[java.lang.Enum.toString] [WARNING] Ignoring unsupported output: shape [[I]\n",
      "[java.lang.Enum.toString] [WARNING] Ignoring unsupported output: shape [[I]\n"
     ]
    }
   ],
   "source": [
    "File = sj.jimport('java.io.File')\n",
    "jfile = File(os.path.join(CWD,'test.py'))\n",
    "\n",
    "# convert python side stuffs to java side\n",
    "# define python side arguments\n",
    "args = {\n",
    "    'imp': imj # java side net.imglib2.img.ImgView object with jython input parameter type ImagePlus\n",
    "}\n",
    "jargs = ij.py.jargs(args)\n",
    "result_future = ij.script().run(jfile,True,jargs)\n",
    "\n",
    "# get the result from java future, blocking will occur here\n",
    "result = result_future.get()\n",
    "print(ij.py.from_java(result.getOutput(\"foo\")))\n",
    "print(ij.py.from_java(result.getOutput(\"bar\")))\n",
    "print(ij.py.from_java(result.getOutput(\"shape\")))"
   ]
  }
 ],
 "metadata": {
  "kernelspec": {
   "display_name": "pyimagej",
   "language": "python",
   "name": "python3"
  },
  "language_info": {
   "codemirror_mode": {
    "name": "ipython",
    "version": 3
   },
   "file_extension": ".py",
   "mimetype": "text/x-python",
   "name": "python",
   "nbconvert_exporter": "python",
   "pygments_lexer": "ipython3",
   "version": "3.8.15"
  },
  "orig_nbformat": 4,
  "vscode": {
   "interpreter": {
    "hash": "cf697b989624a0198a9eb944c78b63fc9e758a34cf876e161e9371b6c822801f"
   }
  }
 },
 "nbformat": 4,
 "nbformat_minor": 2
}
